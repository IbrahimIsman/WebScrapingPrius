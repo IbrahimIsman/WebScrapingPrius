{
  "cells": [
    {
      "cell_type": "markdown",
      "metadata": {
        "id": "view-in-github",
        "colab_type": "text"
      },
      "source": [
        "<a href=\"https://colab.research.google.com/github/IbrahimIsman/WebScrapingPrius/blob/main/Web_scraping_prius_cars_.ipynb\" target=\"_parent\"><img src=\"https://colab.research.google.com/assets/colab-badge.svg\" alt=\"Open In Colab\"/></a>"
      ]
    },
    {
      "cell_type": "code",
      "execution_count": null,
      "metadata": {
        "id": "qvNcDUCPDThs"
      },
      "outputs": [],
      "source": [
        "from bs4 import BeautifulSoup\n",
        "import requests\n",
        "import pandas as pd\n"
      ]
    },
    {
      "cell_type": "code",
      "execution_count": null,
      "metadata": {
        "id": "9tlIMnttDwx3"
      },
      "outputs": [],
      "source": [
        "website = \"https://www.sbtjapan.com/used-cars/toyota/prius/?steering=right-hand-drive&drive=0&year_f=2015&year_t=2023&cc_f=0&cc_t=0&mile_f=11&mile_t=70&trans=0&savel=0&saveu=0&fuel=0&color=0&bodyLength=0&loadClass=0&engineType=0&location=&port=0&search_box=1&locationIds=0&d_country=2&d_port=65&ship_type=0&FreightChk=yes&currency=2&inspection=yes&insurance=1&sort=5&psize=100&p_num=2#listbox\""
      ]
    },
    {
      "cell_type": "code",
      "execution_count": null,
      "metadata": {
        "id": "78sEk2xmELRO"
      },
      "outputs": [],
      "source": [
        "response =  requests.get(website)"
      ]
    },
    {
      "cell_type": "code",
      "execution_count": null,
      "metadata": {
        "id": "9yCxEjm3ET98",
        "collapsed": true
      },
      "outputs": [],
      "source": [
        "response.status_code"
      ]
    },
    {
      "cell_type": "code",
      "execution_count": null,
      "metadata": {
        "colab": {
          "background_save": true
        },
        "id": "ZDqho-5qRq6x"
      },
      "outputs": [],
      "source": [
        " Soup = BeautifulSoup(response.content, 'html.parser')"
      ]
    },
    {
      "cell_type": "code",
      "execution_count": null,
      "metadata": {
        "colab": {
          "background_save": true
        },
        "collapsed": true,
        "id": "hfYHFTDQRrOh"
      },
      "outputs": [],
      "source": [
        "results = Soup.find_all('div', {'class': 'car_info_area popbox'})"
      ]
    },
    {
      "cell_type": "code",
      "execution_count": null,
      "metadata": {
        "colab": {
          "background_save": true
        },
        "id": "eRaWCNk9T2E8",
        "collapsed": true
      },
      "outputs": [],
      "source": [
        "len(results)"
      ]
    },
    {
      "cell_type": "code",
      "execution_count": null,
      "metadata": {
        "colab": {
          "background_save": true
        },
        "collapsed": true,
        "id": "jkfaXKiHcAP7"
      },
      "outputs": [],
      "source": [
        "#@title\n",
        "results[0]"
      ]
    },
    {
      "cell_type": "code",
      "execution_count": null,
      "metadata": {
        "colab": {
          "background_save": true
        },
        "id": "TiYO5N-bdTJO"
      },
      "outputs": [],
      "source": [
        "results[0].find('h2').get_text().strip()"
      ]
    },
    {
      "cell_type": "code",
      "execution_count": null,
      "metadata": {
        "id": "wM7a1IgagEp_"
      },
      "outputs": [],
      "source": [
        "results[0].find('li').get_text().strip()"
      ]
    },
    {
      "cell_type": "code",
      "execution_count": null,
      "metadata": {
        "id": "4Uvl_nHHaq9I"
      },
      "outputs": [],
      "source": [
        "results[0].find('p', {'style' : \"font-weight: 700;\"}).get_text().strip()"
      ]
    },
    {
      "cell_type": "code",
      "execution_count": null,
      "metadata": {
        "id": "ZwCFlv4S1d5W"
      },
      "outputs": [],
      "source": [
        "name = []\n",
        "mileage = []\n",
        "price = []\n",
        "\n",
        "for result in results:\n",
        "  try:\n",
        "    name.append(result.find('h2').get_text().strip())\n",
        "  except:\n",
        "    name.append('n/a')\n",
        "\n",
        "  try:\n",
        "    mileage.append(result.find('li').get_text().strip())\n",
        "  except:\n",
        "    mileage.append('n/a')\n",
        "\n",
        "  try:\n",
        "    price.append(result.find('p', {'style' : \"font-weight: 700;\"}).get_text().strip())\n",
        "  except:\n",
        "    price.append('n/a')\n"
      ]
    },
    {
      "cell_type": "markdown",
      "metadata": {
        "id": "EgNb2TlfhnM0"
      },
      "source": [
        "**Adding engine size**"
      ]
    },
    {
      "cell_type": "code",
      "execution_count": null,
      "metadata": {
        "id": "JFOOq3gths6s"
      },
      "outputs": [],
      "source": []
    },
    {
      "cell_type": "code",
      "execution_count": null,
      "metadata": {
        "id": "ReUcdwexiDJT"
      },
      "outputs": [],
      "source": [
        " Soup = BeautifulSoup(response.content, 'html.parser')"
      ]
    },
    {
      "cell_type": "code",
      "execution_count": null,
      "metadata": {
        "collapsed": true,
        "id": "gEl-9tUTiDJf"
      },
      "outputs": [],
      "source": [
        "results = Soup.find_all('div', {'class': 'car_info_area popbox'})"
      ]
    },
    {
      "cell_type": "code",
      "execution_count": null,
      "metadata": {
        "collapsed": true,
        "id": "03ZHB6PxmSu_"
      },
      "outputs": [],
      "source": [
        "#@title\n",
        "results[0]"
      ]
    },
    {
      "cell_type": "code",
      "execution_count": null,
      "metadata": {
        "id": "z1yAW8O4_S18"
      },
      "outputs": [],
      "source": [
        "results_span = []\n",
        "\n"
      ]
    },
    {
      "cell_type": "code",
      "execution_count": null,
      "metadata": {
        "id": "Hdz3-cT2_m45"
      },
      "outputs": [],
      "source": [
        "for r in results:\n",
        "  results_span.append(r.find_all('span'))\n"
      ]
    },
    {
      "cell_type": "code",
      "execution_count": null,
      "metadata": {
        "id": "i1Z_xPRhnhdE"
      },
      "outputs": [],
      "source": [
        "len(results_span)"
      ]
    },
    {
      "cell_type": "code",
      "execution_count": null,
      "metadata": {
        "id": "AYplOzH4gBXY"
      },
      "outputs": [],
      "source": [
        "results_engine =[]\n",
        "for  r in results_span:\n",
        "  results_engine.append(r[2])"
      ]
    },
    {
      "cell_type": "code",
      "execution_count": null,
      "metadata": {
        "id": "DR3OwEVgpFYs"
      },
      "outputs": [],
      "source": [
        "len(results_engine)"
      ]
    },
    {
      "cell_type": "markdown",
      "metadata": {
        "id": "CSL6aPLMW89p"
      },
      "source": [
        "**Converting to Pandas DF**\n",
        "\n",
        "\n"
      ]
    },
    {
      "cell_type": "code",
      "execution_count": null,
      "metadata": {
        "id": "gU-25YnbmNA-"
      },
      "outputs": [],
      "source": [
        "prius_info = pd.DataFrame({'Name': name, 'Mileage': mileage, 'Price': price, 'Engine':results_engine})"
      ]
    },
    {
      "cell_type": "markdown",
      "metadata": {
        "id": "DOoic-mXWwRw"
      },
      "source": [
        "**Data cleaning**"
      ]
    },
    {
      "cell_type": "code",
      "execution_count": null,
      "metadata": {
        "id": "z6cPDTiWy-aj"
      },
      "outputs": [],
      "source": [
        "prius_info.head()"
      ]
    },
    {
      "cell_type": "code",
      "execution_count": null,
      "metadata": {
        "id": "5R8WGiMi1m0Q"
      },
      "outputs": [],
      "source": [
        "prius_info['Mileage'] = prius_info['Mileage'].apply(lambda x:x.strip('Mileage\\n'))"
      ]
    },
    {
      "cell_type": "code",
      "execution_count": null,
      "metadata": {
        "id": "Ox4eiVY72_Xp"
      },
      "outputs": [],
      "source": [
        "prius_info['Mileage'] = prius_info['Mileage'].apply(lambda x:x.strip('km'))"
      ]
    },
    {
      "cell_type": "code",
      "execution_count": null,
      "metadata": {
        "id": "j-z9pPFd3M49"
      },
      "outputs": [],
      "source": [
        "prius_info['Price'] = prius_info['Price'].apply(lambda x:x.strip('USD'))"
      ]
    },
    {
      "cell_type": "code",
      "execution_count": null,
      "metadata": {
        "id": "Zp8zqfJr3U04"
      },
      "outputs": [],
      "source": [
        "prius_info"
      ]
    },
    {
      "cell_type": "markdown",
      "metadata": {
        "id": "UY_6X2uDZR5l"
      },
      "source": [
        "**Feature engineering**"
      ]
    },
    {
      "cell_type": "code",
      "execution_count": null,
      "metadata": {
        "id": "u4jUEDmh39jH"
      },
      "outputs": [],
      "source": [
        "prius_info_split_name = pd.DataFrame(prius_info.Name.str.split(' ',1).tolist(),\n",
        "                                 columns = ['Release date','Name'])"
      ]
    },
    {
      "cell_type": "code",
      "execution_count": null,
      "metadata": {
        "id": "V9BPa9k39Bi6"
      },
      "outputs": [],
      "source": [
        "Prius_droppedCol = prius_info.drop('Name', axis=1)"
      ]
    },
    {
      "cell_type": "code",
      "execution_count": null,
      "metadata": {
        "id": "6S-3tuMi7YBi"
      },
      "outputs": [],
      "source": [
        "concatenated = pd.concat([prius_info_split_name, Prius_droppedCol], axis=\"columns\")"
      ]
    },
    {
      "cell_type": "code",
      "execution_count": null,
      "metadata": {
        "id": "OGqEgkqYB5zT"
      },
      "outputs": [],
      "source": [
        "cleaned_name = concatenated['Name'].str.encode('ascii', 'ignore').str.decode('ascii')"
      ]
    },
    {
      "cell_type": "code",
      "execution_count": null,
      "metadata": {
        "id": "TqIEl0mbCjA5"
      },
      "outputs": [],
      "source": [
        "concatenated = concatenated.drop('Name', axis=1)"
      ]
    },
    {
      "cell_type": "code",
      "execution_count": null,
      "metadata": {
        "id": "SIDZwSPm--8i"
      },
      "outputs": [],
      "source": [
        "Final = pd.concat([cleaned_name, concatenated], axis=\"columns\")"
      ]
    },
    {
      "cell_type": "code",
      "execution_count": null,
      "metadata": {
        "id": "XMgc3m_LCeNi"
      },
      "outputs": [],
      "source": [
        "Final.to_excel('search_page2.xlsx', index=False)"
      ]
    },
    {
      "cell_type": "markdown",
      "metadata": {
        "id": "vxOtMNIL_f07"
      },
      "source": [
        "\n",
        "**Looping through all pages**"
      ]
    },
    {
      "cell_type": "code",
      "execution_count": null,
      "metadata": {
        "id": "zyyFwv-hGHNe"
      },
      "outputs": [],
      "source": [
        "websites = []\n",
        "\n",
        "for i in range(2,14):\n",
        "  website = 'https://www.sbtjapan.com/used-cars/toyota/prius/?steering=right-hand-drive&drive=0&year_f=2015&year_t=2023&cc_f=0&cc_t=0&mile_f=11&mile_t=70&trans=0&savel=0&saveu=0&fuel=0&color=0&bodyLength=0&loadClass=0&engineType=0&location=&port=0&search_box=1&locationIds=0&d_country=2&d_port=65&ship_type=0&FreightChk=yes&currency=2&inspection=yes&insurance=1&sort=5&psize=100&p_num=' + str(i)+ '#listbox'\n",
        "  websites.append(website)\n",
        "\n"
      ]
    },
    {
      "cell_type": "code",
      "execution_count": null,
      "metadata": {
        "id": "0wsqsPcqHRmu"
      },
      "outputs": [],
      "source": [
        "\n",
        "name = []\n",
        "mileage = []\n",
        "price = []\n",
        "\n",
        "for w in websites:\n",
        "  response =  requests.get(w)\n",
        "  soup = BeautifulSoup(response.content, 'html.parser')\n",
        "  result = soup.find_all('li', {'class': 'car_listitem'})\n",
        "\n",
        "  for r in result:\n",
        "    try:\n",
        "      name.append(r.find('h2').get_text().strip())\n",
        "    except:\n",
        "      name.append('n/a')\n",
        "\n",
        "    try:\n",
        "      mileage.append(r.find('li').get_text().strip())\n",
        "    except:\n",
        "      mileage.append('n/a')\n",
        "\n",
        "    try:\n",
        "      price.append(r.find('p', {'style' : \"font-weight: 700;\"}).get_text().strip())\n",
        "    except:\n",
        "      price.append('n/a')"
      ]
    },
    {
      "cell_type": "code",
      "execution_count": null,
      "metadata": {
        "id": "FSI3o8XKkIhl"
      },
      "outputs": [],
      "source": [
        "len(mileage)"
      ]
    },
    {
      "cell_type": "markdown",
      "metadata": {
        "id": "q-GmZJSbexS1"
      },
      "source": [
        "**Scraping the engine size**\n",
        "\n"
      ]
    },
    {
      "cell_type": "code",
      "execution_count": null,
      "metadata": {
        "id": "t3pIWsgXexS2"
      },
      "outputs": [],
      "source": [
        "engine =[]\n",
        "results_span_all = []\n",
        "\n",
        "for w in websites:\n",
        "  response =  requests.get(w)\n",
        "  soup = BeautifulSoup(response.content, 'html.parser')\n",
        "  result = soup.find_all('div', {'class': 'car_info_area popbox'})\n",
        "\n",
        "  for r in result:\n",
        "    results_span_all.append(r.find_all('span'))"
      ]
    },
    {
      "cell_type": "code",
      "execution_count": null,
      "metadata": {
        "id": "uLbPkWY0exS3"
      },
      "outputs": [],
      "source": [
        "for r in results_span_all:\n",
        "      engine.append(r[2])"
      ]
    },
    {
      "cell_type": "code",
      "execution_count": null,
      "metadata": {
        "id": "xzBkUAs_exS3"
      },
      "outputs": [],
      "source": [
        "engine[:10]"
      ]
    },
    {
      "cell_type": "markdown",
      "metadata": {
        "id": "Fw4WfGphX1ku"
      },
      "source": [
        "**Converted to Pandas Dataframe**"
      ]
    },
    {
      "cell_type": "code",
      "execution_count": null,
      "metadata": {
        "id": "Pr-WXJngU4oF"
      },
      "outputs": [],
      "source": [
        "prius_info_all = pd.DataFrame({'Name': name, 'Mileage': mileage, 'Price': price, 'Engine': engine})"
      ]
    },
    {
      "cell_type": "code",
      "execution_count": null,
      "metadata": {
        "id": "PBc4LMazWdDi"
      },
      "outputs": [],
      "source": [
        "prius_info_all.info()"
      ]
    },
    {
      "cell_type": "markdown",
      "metadata": {
        "id": "LM7OQyBWYKhb"
      },
      "source": [
        "**Data cleaning through all pages**"
      ]
    },
    {
      "cell_type": "code",
      "execution_count": null,
      "metadata": {
        "id": "Dw4bMhGNXQrP"
      },
      "outputs": [],
      "source": [
        "prius_info_all['Mileage'] = prius_info_all['Mileage'].apply(lambda x:x.strip('Mileage\\n'))\n",
        "prius_info_all['Mileage'] = prius_info_all['Mileage'].apply(lambda x:x.strip('km'))\n",
        "prius_info_all['Price'] = prius_info_all['Price'].apply(lambda x:x.strip('USD'))\n",
        "prius_info_all['Name'] = prius_info_all['Name'].str.encode('ascii', 'ignore').str.decode('ascii')"
      ]
    },
    {
      "cell_type": "markdown",
      "metadata": {
        "id": "wtS-iYJiZIhg"
      },
      "source": [
        "**Feature engineering**"
      ]
    },
    {
      "cell_type": "code",
      "execution_count": null,
      "metadata": {
        "id": "s4AinwcoZN9E"
      },
      "outputs": [],
      "source": [
        "prius_info_all_split_name = pd.DataFrame(prius_info_all.Name.str.split(' ',1).tolist(),columns = ['Release date','Name'])\n",
        "Prius_info_all_droppedCol = prius_info_all.drop('Name', axis=1)\n",
        "Final_all = pd.concat([prius_info_all_split_name, Prius_info_all_droppedCol], axis=\"columns\")"
      ]
    },
    {
      "cell_type": "code",
      "execution_count": null,
      "metadata": {
        "id": "-VPQol4jaUkB"
      },
      "outputs": [],
      "source": [
        "Final_all.info()"
      ]
    },
    {
      "cell_type": "markdown",
      "metadata": {
        "id": "Fl6hAZ2ja5Ex"
      },
      "source": [
        "**Converting to excel sheet**"
      ]
    },
    {
      "cell_type": "code",
      "execution_count": null,
      "metadata": {
        "id": "4pbGyPyabQED"
      },
      "outputs": [],
      "source": [
        "Final_all.to_excel('pages 2-13.xlsx', index=False)"
      ]
    },
    {
      "cell_type": "markdown",
      "metadata": {
        "id": "LBVJ5JzXbg2w"
      },
      "source": [
        "**Appending search page 1 with pages 2 to 13**"
      ]
    },
    {
      "cell_type": "code",
      "execution_count": null,
      "metadata": {
        "id": "mEhKOhpPcA01"
      },
      "outputs": [],
      "source": [
        "Combined_all = Final.append(\n",
        "      Final_all, ignore_index=True)\n",
        "\n"
      ]
    },
    {
      "cell_type": "code",
      "execution_count": null,
      "metadata": {
        "id": "rULd_3i5c-Z-"
      },
      "outputs": [],
      "source": [
        "Combined_all.info()"
      ]
    },
    {
      "cell_type": "code",
      "execution_count": null,
      "metadata": {
        "id": "cbYkd51BgYln"
      },
      "outputs": [],
      "source": [
        "Combined_all"
      ]
    },
    {
      "cell_type": "markdown",
      "metadata": {
        "id": "6MiYk6S21YT_"
      },
      "source": [
        "**Converting all to excel**"
      ]
    },
    {
      "cell_type": "code",
      "execution_count": null,
      "metadata": {
        "id": "vo0LAZ_ndClx"
      },
      "outputs": [],
      "source": [
        "Combined_all.to_excel('sbtjapan Prius info.xlsx', index=False)\n"
      ]
    }
  ],
  "metadata": {
    "colab": {
      "provenance": [],
      "authorship_tag": "ABX9TyPicOF8/KEU8V5kdSPriE1u",
      "include_colab_link": true
    },
    "kernelspec": {
      "display_name": "Python 3",
      "name": "python3"
    },
    "language_info": {
      "name": "python"
    }
  },
  "nbformat": 4,
  "nbformat_minor": 0
}