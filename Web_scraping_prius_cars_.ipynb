{
  "cells": [
    {
      "cell_type": "markdown",
      "metadata": {
        "id": "view-in-github",
        "colab_type": "text"
      },
      "source": [
        "<a href=\"https://colab.research.google.com/github/IbrahimIsman/WebScrapingPrius/blob/main/Web_scraping_prius_cars_.ipynb\" target=\"_parent\"><img src=\"https://colab.research.google.com/assets/colab-badge.svg\" alt=\"Open In Colab\"/></a>"
      ]
    },
    {
      "cell_type": "code",
      "execution_count": null,
      "metadata": {
        "id": "qvNcDUCPDThs"
      },
      "outputs": [],
      "source": [
        "from bs4 import BeautifulSoup\n",
        "import requests\n",
        "import pandas as pd\n"
      ]
    },
    {
      "cell_type": "code",
      "execution_count": null,
      "metadata": {
        "id": "9tlIMnttDwx3"
      },
      "outputs": [],
      "source": [
        "website = \"https://www.sbtjapan.com/used-cars/toyota/prius/?steering=right-hand-drive&drive=0&year_f=2015&year_t=2023&cc_f=0&cc_t=0&mile_f=11&mile_t=70&trans=0&savel=0&saveu=0&fuel=0&color=0&bodyLength=0&loadClass=0&engineType=0&location=&port=0&search_box=1&locationIds=0&d_country=2&d_port=65&ship_type=0&FreightChk=yes&currency=2&inspection=yes&insurance=1&sort=5&psize=100&p_num=2#listbox\""
      ]
    },
    {
      "cell_type": "code",
      "execution_count": null,
      "metadata": {
        "id": "78sEk2xmELRO"
      },
      "outputs": [],
      "source": [
        "response =  requests.get(website)"
      ]
    },
    {
      "cell_type": "code",
      "execution_count": null,
      "metadata": {
        "colab": {
          "base_uri": "https://localhost:8080/"
        },
        "id": "9yCxEjm3ET98",
        "outputId": "ab5e68bc-ee65-4c19-819d-a947badf3b2c"
      },
      "outputs": [
        {
          "data": {
            "text/plain": [
              "200"
            ]
          },
          "execution_count": 4,
          "metadata": {},
          "output_type": "execute_result"
        }
      ],
      "source": [
        "response.status_code"
      ]
    },
    {
      "cell_type": "code",
      "execution_count": null,
      "metadata": {
        "colab": {
          "background_save": true
        },
        "id": "ZDqho-5qRq6x"
      },
      "outputs": [],
      "source": [
        " Soup = BeautifulSoup(response.content, 'html.parser')"
      ]
    },
    {
      "cell_type": "code",
      "execution_count": null,
      "metadata": {
        "colab": {
          "background_save": true
        },
        "collapsed": true,
        "id": "hfYHFTDQRrOh"
      },
      "outputs": [],
      "source": [
        "results = Soup.find_all('div', {'class': 'car_info_area popbox'})"
      ]
    },
    {
      "cell_type": "code",
      "execution_count": null,
      "metadata": {
        "colab": {
          "background_save": true,
          "base_uri": "https://localhost:8080/"
        },
        "id": "eRaWCNk9T2E8",
        "outputId": "557a8624-a38c-43c9-d631-cbaae9b196a3"
      },
      "outputs": [
        {
          "data": {
            "text/plain": [
              "100"
            ]
          },
          "execution_count": 7,
          "metadata": {},
          "output_type": "execute_result"
        }
      ],
      "source": [
        "len(results)"
      ]
    },
    {
      "cell_type": "code",
      "execution_count": null,
      "metadata": {
        "colab": {
          "background_save": true,
          "base_uri": "https://localhost:8080/"
        },
        "collapsed": true,
        "id": "jkfaXKiHcAP7",
        "outputId": "1128f578-95ce-45d9-b3fb-2148659785be"
      },
      "outputs": [
        {
          "data": {
            "text/plain": [
              "<div class=\"car_info_area popbox\">\n",
              "<div class=\"carlistitem_autoheight_area\">\n",
              "<div class=\"caritem_titlearea\">\n",
              "<ul class=\"sales_banners_area\">\n",
              "</ul>\n",
              "<!-- Favoriteに入れてあげたらaタグのclassをaddfav_btnからaddedfav_btndisableに切り替えてあげてます -->\n",
              "<p class=\"favorite_btn\">\n",
              "<a class=\"addfav_btn\" href=\"https://www.sbtjapan.com/user/login/\" id=\"fav_DQG7542\">\n",
              "<i class=\"icon-heart-empty\" id=\"icon_favorites_DQG7542\" style=\"margin-right: 3px;\"></i><span>Add to Favorites</span>\n",
              "</a>\n",
              "</p>\n",
              "<h2>\n",
              "<a href=\"https://www.sbtjapan.com/dealers-cars/toyota/prius/DQG7542/\">\n",
              "                                                      2016/3 TOYOTA PRIUS S                                                      </a>\n",
              "</h2>\n",
              "<div class=\"spce_area\">\n",
              "<p class=\"spce_location\">Inventory Location:\n",
              "                                                                                                                <span class=\"spcelocation_japan\">\n",
              "                                                              Japan Fukui                                                          </span>\n",
              "</p>\n",
              "</div>\n",
              "</div>\n",
              "<div class=\"car_info_left\" style=\"margin-top: 1px;\">\n",
              "<div class=\"car_prices\">\n",
              "<div class=\"fob_area\" style=\"float: left;\">\n",
              "<h3 style=\"font-size: 16px !important;float: left; margin-right: 5px;\">\n",
              "                                                              Vehicle Price:\n",
              "                                                          </h3>\n",
              "<p class=\"price_para\" style=\"font-size: 16px !important;font-weight: 100;\">\n",
              "                                                                                                                                                                                                                                                    USD 9,800                                                                                                                    </p>\n",
              "</div>\n",
              "<div class=\"totalprices_area\" style=\"float: left;\">\n",
              "<h3>\n",
              "                                                              Total Price:\n",
              "                                                          </h3>\n",
              "<p class=\"price_para\" style=\"font-weight: 700;\">\n",
              "                                                              USD 11,676                                                          </p>\n",
              "</div>\n",
              "</div>\n",
              "</div><!-- .car_info_left -->\n",
              "<div class=\"car_info_right\">\n",
              "<ul class=\"speclist_table\">\n",
              "<li>\n",
              "<h3>Mileage</h3>\n",
              "<p>53,000km</p>\n",
              "</li>\n",
              "<li>\n",
              "<h3>Engine</h3>\n",
              "<p>\n",
              "<span>1,800cc</span>\n",
              "<span>(-)</span>\n",
              "</p>\n",
              "</li>\n",
              "<li>\n",
              "<h3>Trans</h3>\n",
              "<p>AT</p>\n",
              "</li>\n",
              "</ul>\n",
              "<ul class=\"speclist_box\">\n",
              "<li class=\"specwithicon_model\">ZVW50</li>\n",
              "<li class=\"specwithicon_fuel\">HYBRID(PETROL)</li>\n",
              "<li class=\"specwithicon_steering\">RHD</li>\n",
              "<li class=\"specwithicon_drive\">FF</li>\n",
              "<li class=\"specwithicon_seats\">5 Seats</li>\n",
              "<li class=\"specwithicon_doors\">5 Doors</li>\n",
              "</ul>\n",
              "</div><!-- .car_info_right -->\n",
              "</div><!-- carlistitem_autoheight_area -->\n",
              "<div class=\"car_listitem_footer action\">\n",
              "<span class=\"acc_list\">Power Steering</span>\n",
              "<span class=\"acc_list\">Power Windows</span>\n",
              "<span class=\"acc_list\">Air Conditioner</span>\n",
              "<span class=\"acc_list\">Air Bag</span>\n",
              "<span class=\"acc_list\">Dual Air Bags</span>\n",
              "<span class=\"acc_list\">Anti-Lock Brake</span>\n",
              "<span class=\"acc_list\">TV</span>\n",
              "<span class=\"acc_list\">CD</span>\n",
              "<span class=\"acc_list\">Alloy Wheels</span>\n",
              "<span class=\"acc_list\">Key Less Entry</span>\n",
              "<span class=\"acc_list last\">Back Camera</span>\n",
              "<span class=\"absolute_existence\"> </span>\n",
              "</div>\n",
              "</div>"
            ]
          },
          "execution_count": 8,
          "metadata": {},
          "output_type": "execute_result"
        }
      ],
      "source": [
        "#@title\n",
        "results[0]"
      ]
    },
    {
      "cell_type": "code",
      "execution_count": null,
      "metadata": {
        "colab": {
          "background_save": true,
          "base_uri": "https://localhost:8080/",
          "height": 36
        },
        "id": "TiYO5N-bdTJO",
        "outputId": "8623b722-b916-4d2e-e0a7-415d7cef24d7"
      },
      "outputs": [
        {
          "data": {
            "application/vnd.google.colaboratory.intrinsic+json": {
              "type": "string"
            },
            "text/plain": [
              "'2016/3 TOYOTA PRIUS S'"
            ]
          },
          "execution_count": 9,
          "metadata": {},
          "output_type": "execute_result"
        }
      ],
      "source": [
        "results[0].find('h2').get_text().strip()"
      ]
    },
    {
      "cell_type": "code",
      "execution_count": null,
      "metadata": {
        "colab": {
          "base_uri": "https://localhost:8080/",
          "height": 36
        },
        "id": "wM7a1IgagEp_",
        "outputId": "dff8309a-8fb2-4378-b0fb-c227010ed435"
      },
      "outputs": [
        {
          "data": {
            "application/vnd.google.colaboratory.intrinsic+json": {
              "type": "string"
            },
            "text/plain": [
              "'New Arrival'"
            ]
          },
          "execution_count": 10,
          "metadata": {},
          "output_type": "execute_result"
        }
      ],
      "source": [
        "results[0].find('li').get_text().strip()"
      ]
    },
    {
      "cell_type": "code",
      "execution_count": null,
      "metadata": {
        "colab": {
          "base_uri": "https://localhost:8080/",
          "height": 36
        },
        "id": "4Uvl_nHHaq9I",
        "outputId": "82316989-b296-4e31-fbbc-018f7d88e577"
      },
      "outputs": [
        {
          "data": {
            "application/vnd.google.colaboratory.intrinsic+json": {
              "type": "string"
            },
            "text/plain": [
              "'USD 12,352'"
            ]
          },
          "execution_count": 11,
          "metadata": {},
          "output_type": "execute_result"
        }
      ],
      "source": [
        "results[0].find('p', {'style' : \"font-weight: 700;\"}).get_text().strip()"
      ]
    },
    {
      "cell_type": "code",
      "execution_count": null,
      "metadata": {
        "id": "ZwCFlv4S1d5W"
      },
      "outputs": [],
      "source": [
        "name = []\n",
        "mileage = []\n",
        "price = []\n",
        "\n",
        "for result in results:\n",
        "  try:\n",
        "    name.append(result.find('h2').get_text().strip())\n",
        "  except:\n",
        "    name.append('n/a')\n",
        "\n",
        "  try:\n",
        "    mileage.append(result.find('li').get_text().strip())\n",
        "  except:\n",
        "    mileage.append('n/a')\n",
        "\n",
        "  try:\n",
        "    price.append(result.find('p', {'style' : \"font-weight: 700;\"}).get_text().strip())\n",
        "  except:\n",
        "    price.append('n/a')\n"
      ]
    },
    {
      "cell_type": "markdown",
      "metadata": {
        "id": "EgNb2TlfhnM0"
      },
      "source": [
        "**Adding engine size**"
      ]
    },
    {
      "cell_type": "code",
      "execution_count": null,
      "metadata": {
        "id": "JFOOq3gths6s"
      },
      "outputs": [],
      "source": []
    },
    {
      "cell_type": "code",
      "execution_count": null,
      "metadata": {
        "id": "ReUcdwexiDJT"
      },
      "outputs": [],
      "source": [
        " Soup = BeautifulSoup(response.content, 'html.parser')"
      ]
    },
    {
      "cell_type": "code",
      "execution_count": null,
      "metadata": {
        "collapsed": true,
        "id": "gEl-9tUTiDJf"
      },
      "outputs": [],
      "source": [
        "results = Soup.find_all('div', {'class': 'car_info_area popbox'})"
      ]
    },
    {
      "cell_type": "code",
      "execution_count": null,
      "metadata": {
        "colab": {
          "base_uri": "https://localhost:8080/"
        },
        "collapsed": true,
        "id": "03ZHB6PxmSu_",
        "outputId": "722ede96-b52e-42c3-dd0d-1f273d90795d"
      },
      "outputs": [
        {
          "data": {
            "text/plain": [
              "<div class=\"car_info_area popbox\">\n",
              "<div class=\"carlistitem_autoheight_area\">\n",
              "<div class=\"caritem_titlearea\">\n",
              "<ul class=\"sales_banners_area\">\n",
              "</ul>\n",
              "<!-- Favoriteに入れてあげたらaタグのclassをaddfav_btnからaddedfav_btndisableに切り替えてあげてます -->\n",
              "<p class=\"favorite_btn\">\n",
              "<a class=\"addfav_btn\" href=\"https://www.sbtjapan.com/user/login/\" id=\"fav_DQG7542\">\n",
              "<i class=\"icon-heart-empty\" id=\"icon_favorites_DQG7542\" style=\"margin-right: 3px;\"></i><span>Add to Favorites</span>\n",
              "</a>\n",
              "</p>\n",
              "<h2>\n",
              "<a href=\"https://www.sbtjapan.com/dealers-cars/toyota/prius/DQG7542/\">\n",
              "                                                      2016/3 TOYOTA PRIUS S                                                      </a>\n",
              "</h2>\n",
              "<div class=\"spce_area\">\n",
              "<p class=\"spce_location\">Inventory Location:\n",
              "                                                                                                                <span class=\"spcelocation_japan\">\n",
              "                                                              Japan Fukui                                                          </span>\n",
              "</p>\n",
              "</div>\n",
              "</div>\n",
              "<div class=\"car_info_left\" style=\"margin-top: 1px;\">\n",
              "<div class=\"car_prices\">\n",
              "<div class=\"fob_area\" style=\"float: left;\">\n",
              "<h3 style=\"font-size: 16px !important;float: left; margin-right: 5px;\">\n",
              "                                                              Vehicle Price:\n",
              "                                                          </h3>\n",
              "<p class=\"price_para\" style=\"font-size: 16px !important;font-weight: 100;\">\n",
              "                                                                                                                                                                                                                                                    USD 9,800                                                                                                                    </p>\n",
              "</div>\n",
              "<div class=\"totalprices_area\" style=\"float: left;\">\n",
              "<h3>\n",
              "                                                              Total Price:\n",
              "                                                          </h3>\n",
              "<p class=\"price_para\" style=\"font-weight: 700;\">\n",
              "                                                              USD 11,676                                                          </p>\n",
              "</div>\n",
              "</div>\n",
              "</div><!-- .car_info_left -->\n",
              "<div class=\"car_info_right\">\n",
              "<ul class=\"speclist_table\">\n",
              "<li>\n",
              "<h3>Mileage</h3>\n",
              "<p>53,000km</p>\n",
              "</li>\n",
              "<li>\n",
              "<h3>Engine</h3>\n",
              "<p>\n",
              "<span>1,800cc</span>\n",
              "<span>(-)</span>\n",
              "</p>\n",
              "</li>\n",
              "<li>\n",
              "<h3>Trans</h3>\n",
              "<p>AT</p>\n",
              "</li>\n",
              "</ul>\n",
              "<ul class=\"speclist_box\">\n",
              "<li class=\"specwithicon_model\">ZVW50</li>\n",
              "<li class=\"specwithicon_fuel\">HYBRID(PETROL)</li>\n",
              "<li class=\"specwithicon_steering\">RHD</li>\n",
              "<li class=\"specwithicon_drive\">FF</li>\n",
              "<li class=\"specwithicon_seats\">5 Seats</li>\n",
              "<li class=\"specwithicon_doors\">5 Doors</li>\n",
              "</ul>\n",
              "</div><!-- .car_info_right -->\n",
              "</div><!-- carlistitem_autoheight_area -->\n",
              "<div class=\"car_listitem_footer action\">\n",
              "<span class=\"acc_list\">Power Steering</span>\n",
              "<span class=\"acc_list\">Power Windows</span>\n",
              "<span class=\"acc_list\">Air Conditioner</span>\n",
              "<span class=\"acc_list\">Air Bag</span>\n",
              "<span class=\"acc_list\">Dual Air Bags</span>\n",
              "<span class=\"acc_list\">Anti-Lock Brake</span>\n",
              "<span class=\"acc_list\">TV</span>\n",
              "<span class=\"acc_list\">CD</span>\n",
              "<span class=\"acc_list\">Alloy Wheels</span>\n",
              "<span class=\"acc_list\">Key Less Entry</span>\n",
              "<span class=\"acc_list last\">Back Camera</span>\n",
              "<span class=\"absolute_existence\"> </span>\n",
              "</div>\n",
              "</div>"
            ]
          },
          "execution_count": 15,
          "metadata": {},
          "output_type": "execute_result"
        }
      ],
      "source": [
        "#@title\n",
        "results[0]"
      ]
    },
    {
      "cell_type": "code",
      "execution_count": null,
      "metadata": {
        "id": "z1yAW8O4_S18"
      },
      "outputs": [],
      "source": [
        "results_span = []\n",
        "\n"
      ]
    },
    {
      "cell_type": "code",
      "execution_count": null,
      "metadata": {
        "id": "Hdz3-cT2_m45"
      },
      "outputs": [],
      "source": [
        "for r in results:\n",
        "  results_span.append(r.find_all('span'))\n"
      ]
    },
    {
      "cell_type": "code",
      "execution_count": null,
      "metadata": {
        "colab": {
          "base_uri": "https://localhost:8080/"
        },
        "id": "i1Z_xPRhnhdE",
        "outputId": "439e04aa-d801-4605-8044-86c9c914afc3"
      },
      "outputs": [
        {
          "data": {
            "text/plain": [
              "100"
            ]
          },
          "execution_count": 18,
          "metadata": {},
          "output_type": "execute_result"
        }
      ],
      "source": [
        "len(results_span)"
      ]
    },
    {
      "cell_type": "code",
      "execution_count": null,
      "metadata": {
        "id": "AYplOzH4gBXY"
      },
      "outputs": [],
      "source": [
        "results_engine =[]\n",
        "for  r in results_span:\n",
        "  results_engine.append(r[2])"
      ]
    },
    {
      "cell_type": "code",
      "execution_count": null,
      "metadata": {
        "colab": {
          "base_uri": "https://localhost:8080/"
        },
        "id": "DR3OwEVgpFYs",
        "outputId": "d437a884-331d-4b00-cba1-0aa6b4c8992f"
      },
      "outputs": [
        {
          "data": {
            "text/plain": [
              "100"
            ]
          },
          "execution_count": 20,
          "metadata": {},
          "output_type": "execute_result"
        }
      ],
      "source": [
        "len(results_engine)"
      ]
    },
    {
      "cell_type": "markdown",
      "metadata": {
        "id": "CSL6aPLMW89p"
      },
      "source": [
        "**Converting to Pandas DF**\n",
        "\n",
        "\n"
      ]
    },
    {
      "cell_type": "code",
      "execution_count": null,
      "metadata": {
        "id": "gU-25YnbmNA-"
      },
      "outputs": [],
      "source": [
        "prius_info = pd.DataFrame({'Name': name, 'Mileage': mileage, 'Price': price, 'Engine':results_engine})"
      ]
    },
    {
      "cell_type": "markdown",
      "metadata": {
        "id": "DOoic-mXWwRw"
      },
      "source": [
        "**Data cleaning**"
      ]
    },
    {
      "cell_type": "code",
      "execution_count": null,
      "metadata": {
        "colab": {
          "base_uri": "https://localhost:8080/",
          "height": 206
        },
        "id": "z6cPDTiWy-aj",
        "outputId": "5b56d7f2-db48-4aca-cc8d-03722f72b141"
      },
      "outputs": [
        {
          "data": {
            "text/html": [
              "\n",
              "  <div id=\"df-321cb3e8-eec0-4c07-bc46-385890c75385\" class=\"colab-df-container\">\n",
              "    <div>\n",
              "<style scoped>\n",
              "    .dataframe tbody tr th:only-of-type {\n",
              "        vertical-align: middle;\n",
              "    }\n",
              "\n",
              "    .dataframe tbody tr th {\n",
              "        vertical-align: top;\n",
              "    }\n",
              "\n",
              "    .dataframe thead th {\n",
              "        text-align: right;\n",
              "    }\n",
              "</style>\n",
              "<table border=\"1\" class=\"dataframe\">\n",
              "  <thead>\n",
              "    <tr style=\"text-align: right;\">\n",
              "      <th></th>\n",
              "      <th>Name</th>\n",
              "      <th>Mileage</th>\n",
              "      <th>Price</th>\n",
              "      <th>Engine</th>\n",
              "    </tr>\n",
              "  </thead>\n",
              "  <tbody>\n",
              "    <tr>\n",
              "      <th>0</th>\n",
              "      <td>2016/3 TOYOTA PRIUS S</td>\n",
              "      <td>Mileage\\n53,000km</td>\n",
              "      <td>USD 11,676</td>\n",
              "      <td>[1,800cc]</td>\n",
              "    </tr>\n",
              "    <tr>\n",
              "      <th>1</th>\n",
              "      <td>2017/7 TOYOTA PRIUS</td>\n",
              "      <td>Mileage\\n53,000km</td>\n",
              "      <td>USD 11,686</td>\n",
              "      <td>[1,800cc]</td>\n",
              "    </tr>\n",
              "    <tr>\n",
              "      <th>2</th>\n",
              "      <td>2016/5 TOYOTA PRIUS</td>\n",
              "      <td>Mileage\\n56,000km</td>\n",
              "      <td>USD 11,686</td>\n",
              "      <td>[1,800cc]</td>\n",
              "    </tr>\n",
              "    <tr>\n",
              "      <th>3</th>\n",
              "      <td>2017/5 TOYOTA PRIUS E</td>\n",
              "      <td>Mileage\\n62,000km</td>\n",
              "      <td>USD 11,706</td>\n",
              "      <td>[1,800cc]</td>\n",
              "    </tr>\n",
              "    <tr>\n",
              "      <th>4</th>\n",
              "      <td>2016/6 TOYOTA PRIUS</td>\n",
              "      <td>New Arrival</td>\n",
              "      <td>USD 11,706</td>\n",
              "      <td>[1,800cc]</td>\n",
              "    </tr>\n",
              "  </tbody>\n",
              "</table>\n",
              "</div>\n",
              "    <div class=\"colab-df-buttons\">\n",
              "\n",
              "  <div class=\"colab-df-container\">\n",
              "    <button class=\"colab-df-convert\" onclick=\"convertToInteractive('df-321cb3e8-eec0-4c07-bc46-385890c75385')\"\n",
              "            title=\"Convert this dataframe to an interactive table.\"\n",
              "            style=\"display:none;\">\n",
              "\n",
              "  <svg xmlns=\"http://www.w3.org/2000/svg\" height=\"24px\" viewBox=\"0 -960 960 960\">\n",
              "    <path d=\"M120-120v-720h720v720H120Zm60-500h600v-160H180v160Zm220 220h160v-160H400v160Zm0 220h160v-160H400v160ZM180-400h160v-160H180v160Zm440 0h160v-160H620v160ZM180-180h160v-160H180v160Zm440 0h160v-160H620v160Z\"/>\n",
              "  </svg>\n",
              "    </button>\n",
              "\n",
              "  <style>\n",
              "    .colab-df-container {\n",
              "      display:flex;\n",
              "      gap: 12px;\n",
              "    }\n",
              "\n",
              "    .colab-df-convert {\n",
              "      background-color: #E8F0FE;\n",
              "      border: none;\n",
              "      border-radius: 50%;\n",
              "      cursor: pointer;\n",
              "      display: none;\n",
              "      fill: #1967D2;\n",
              "      height: 32px;\n",
              "      padding: 0 0 0 0;\n",
              "      width: 32px;\n",
              "    }\n",
              "\n",
              "    .colab-df-convert:hover {\n",
              "      background-color: #E2EBFA;\n",
              "      box-shadow: 0px 1px 2px rgba(60, 64, 67, 0.3), 0px 1px 3px 1px rgba(60, 64, 67, 0.15);\n",
              "      fill: #174EA6;\n",
              "    }\n",
              "\n",
              "    .colab-df-buttons div {\n",
              "      margin-bottom: 4px;\n",
              "    }\n",
              "\n",
              "    [theme=dark] .colab-df-convert {\n",
              "      background-color: #3B4455;\n",
              "      fill: #D2E3FC;\n",
              "    }\n",
              "\n",
              "    [theme=dark] .colab-df-convert:hover {\n",
              "      background-color: #434B5C;\n",
              "      box-shadow: 0px 1px 3px 1px rgba(0, 0, 0, 0.15);\n",
              "      filter: drop-shadow(0px 1px 2px rgba(0, 0, 0, 0.3));\n",
              "      fill: #FFFFFF;\n",
              "    }\n",
              "  </style>\n",
              "\n",
              "    <script>\n",
              "      const buttonEl =\n",
              "        document.querySelector('#df-321cb3e8-eec0-4c07-bc46-385890c75385 button.colab-df-convert');\n",
              "      buttonEl.style.display =\n",
              "        google.colab.kernel.accessAllowed ? 'block' : 'none';\n",
              "\n",
              "      async function convertToInteractive(key) {\n",
              "        const element = document.querySelector('#df-321cb3e8-eec0-4c07-bc46-385890c75385');\n",
              "        const dataTable =\n",
              "          await google.colab.kernel.invokeFunction('convertToInteractive',\n",
              "                                                    [key], {});\n",
              "        if (!dataTable) return;\n",
              "\n",
              "        const docLinkHtml = 'Like what you see? Visit the ' +\n",
              "          '<a target=\"_blank\" href=https://colab.research.google.com/notebooks/data_table.ipynb>data table notebook</a>'\n",
              "          + ' to learn more about interactive tables.';\n",
              "        element.innerHTML = '';\n",
              "        dataTable['output_type'] = 'display_data';\n",
              "        await google.colab.output.renderOutput(dataTable, element);\n",
              "        const docLink = document.createElement('div');\n",
              "        docLink.innerHTML = docLinkHtml;\n",
              "        element.appendChild(docLink);\n",
              "      }\n",
              "    </script>\n",
              "  </div>\n",
              "\n",
              "\n",
              "<div id=\"df-cfb35bb0-fbfe-40d5-9838-5d910fb1c865\">\n",
              "  <button class=\"colab-df-quickchart\" onclick=\"quickchart('df-cfb35bb0-fbfe-40d5-9838-5d910fb1c865')\"\n",
              "            title=\"Suggest charts.\"\n",
              "            style=\"display:none;\">\n",
              "\n",
              "<svg xmlns=\"http://www.w3.org/2000/svg\" height=\"24px\"viewBox=\"0 0 24 24\"\n",
              "     width=\"24px\">\n",
              "    <g>\n",
              "        <path d=\"M19 3H5c-1.1 0-2 .9-2 2v14c0 1.1.9 2 2 2h14c1.1 0 2-.9 2-2V5c0-1.1-.9-2-2-2zM9 17H7v-7h2v7zm4 0h-2V7h2v10zm4 0h-2v-4h2v4z\"/>\n",
              "    </g>\n",
              "</svg>\n",
              "  </button>\n",
              "\n",
              "<style>\n",
              "  .colab-df-quickchart {\n",
              "      --bg-color: #E8F0FE;\n",
              "      --fill-color: #1967D2;\n",
              "      --hover-bg-color: #E2EBFA;\n",
              "      --hover-fill-color: #174EA6;\n",
              "      --disabled-fill-color: #AAA;\n",
              "      --disabled-bg-color: #DDD;\n",
              "  }\n",
              "\n",
              "  [theme=dark] .colab-df-quickchart {\n",
              "      --bg-color: #3B4455;\n",
              "      --fill-color: #D2E3FC;\n",
              "      --hover-bg-color: #434B5C;\n",
              "      --hover-fill-color: #FFFFFF;\n",
              "      --disabled-bg-color: #3B4455;\n",
              "      --disabled-fill-color: #666;\n",
              "  }\n",
              "\n",
              "  .colab-df-quickchart {\n",
              "    background-color: var(--bg-color);\n",
              "    border: none;\n",
              "    border-radius: 50%;\n",
              "    cursor: pointer;\n",
              "    display: none;\n",
              "    fill: var(--fill-color);\n",
              "    height: 32px;\n",
              "    padding: 0;\n",
              "    width: 32px;\n",
              "  }\n",
              "\n",
              "  .colab-df-quickchart:hover {\n",
              "    background-color: var(--hover-bg-color);\n",
              "    box-shadow: 0 1px 2px rgba(60, 64, 67, 0.3), 0 1px 3px 1px rgba(60, 64, 67, 0.15);\n",
              "    fill: var(--button-hover-fill-color);\n",
              "  }\n",
              "\n",
              "  .colab-df-quickchart-complete:disabled,\n",
              "  .colab-df-quickchart-complete:disabled:hover {\n",
              "    background-color: var(--disabled-bg-color);\n",
              "    fill: var(--disabled-fill-color);\n",
              "    box-shadow: none;\n",
              "  }\n",
              "\n",
              "  .colab-df-spinner {\n",
              "    border: 2px solid var(--fill-color);\n",
              "    border-color: transparent;\n",
              "    border-bottom-color: var(--fill-color);\n",
              "    animation:\n",
              "      spin 1s steps(1) infinite;\n",
              "  }\n",
              "\n",
              "  @keyframes spin {\n",
              "    0% {\n",
              "      border-color: transparent;\n",
              "      border-bottom-color: var(--fill-color);\n",
              "      border-left-color: var(--fill-color);\n",
              "    }\n",
              "    20% {\n",
              "      border-color: transparent;\n",
              "      border-left-color: var(--fill-color);\n",
              "      border-top-color: var(--fill-color);\n",
              "    }\n",
              "    30% {\n",
              "      border-color: transparent;\n",
              "      border-left-color: var(--fill-color);\n",
              "      border-top-color: var(--fill-color);\n",
              "      border-right-color: var(--fill-color);\n",
              "    }\n",
              "    40% {\n",
              "      border-color: transparent;\n",
              "      border-right-color: var(--fill-color);\n",
              "      border-top-color: var(--fill-color);\n",
              "    }\n",
              "    60% {\n",
              "      border-color: transparent;\n",
              "      border-right-color: var(--fill-color);\n",
              "    }\n",
              "    80% {\n",
              "      border-color: transparent;\n",
              "      border-right-color: var(--fill-color);\n",
              "      border-bottom-color: var(--fill-color);\n",
              "    }\n",
              "    90% {\n",
              "      border-color: transparent;\n",
              "      border-bottom-color: var(--fill-color);\n",
              "    }\n",
              "  }\n",
              "</style>\n",
              "\n",
              "  <script>\n",
              "    async function quickchart(key) {\n",
              "      const quickchartButtonEl =\n",
              "        document.querySelector('#' + key + ' button');\n",
              "      quickchartButtonEl.disabled = true;  // To prevent multiple clicks.\n",
              "      quickchartButtonEl.classList.add('colab-df-spinner');\n",
              "      try {\n",
              "        const charts = await google.colab.kernel.invokeFunction(\n",
              "            'suggestCharts', [key], {});\n",
              "      } catch (error) {\n",
              "        console.error('Error during call to suggestCharts:', error);\n",
              "      }\n",
              "      quickchartButtonEl.classList.remove('colab-df-spinner');\n",
              "      quickchartButtonEl.classList.add('colab-df-quickchart-complete');\n",
              "    }\n",
              "    (() => {\n",
              "      let quickchartButtonEl =\n",
              "        document.querySelector('#df-cfb35bb0-fbfe-40d5-9838-5d910fb1c865 button');\n",
              "      quickchartButtonEl.style.display =\n",
              "        google.colab.kernel.accessAllowed ? 'block' : 'none';\n",
              "    })();\n",
              "  </script>\n",
              "</div>\n",
              "    </div>\n",
              "  </div>\n"
            ],
            "text/plain": [
              "                    Name            Mileage       Price     Engine\n",
              "0  2016/3 TOYOTA PRIUS S  Mileage\\n53,000km  USD 11,676  [1,800cc]\n",
              "1    2017/7 TOYOTA PRIUS  Mileage\\n53,000km  USD 11,686  [1,800cc]\n",
              "2    2016/5 TOYOTA PRIUS  Mileage\\n56,000km  USD 11,686  [1,800cc]\n",
              "3  2017/5 TOYOTA PRIUS E  Mileage\\n62,000km  USD 11,706  [1,800cc]\n",
              "4    2016/6 TOYOTA PRIUS        New Arrival  USD 11,706  [1,800cc]"
            ]
          },
          "execution_count": 22,
          "metadata": {},
          "output_type": "execute_result"
        }
      ],
      "source": [
        "prius_info.head()"
      ]
    },
    {
      "cell_type": "code",
      "execution_count": null,
      "metadata": {
        "id": "5R8WGiMi1m0Q"
      },
      "outputs": [],
      "source": [
        "prius_info['Mileage'] = prius_info['Mileage'].apply(lambda x:x.strip('Mileage\\n'))"
      ]
    },
    {
      "cell_type": "code",
      "execution_count": null,
      "metadata": {
        "id": "Ox4eiVY72_Xp"
      },
      "outputs": [],
      "source": [
        "prius_info['Mileage'] = prius_info['Mileage'].apply(lambda x:x.strip('km'))"
      ]
    },
    {
      "cell_type": "code",
      "execution_count": null,
      "metadata": {
        "id": "j-z9pPFd3M49"
      },
      "outputs": [],
      "source": [
        "prius_info['Price'] = prius_info['Price'].apply(lambda x:x.strip('USD'))"
      ]
    },
    {
      "cell_type": "code",
      "execution_count": null,
      "metadata": {
        "colab": {
          "base_uri": "https://localhost:8080/",
          "height": 423
        },
        "id": "Zp8zqfJr3U04",
        "outputId": "7ac8b666-3863-43a7-f89f-89dde7c17099"
      },
      "outputs": [
        {
          "data": {
            "text/html": [
              "\n",
              "  <div id=\"df-b3fd98a4-f8eb-47c9-84c6-7b04c346ae55\" class=\"colab-df-container\">\n",
              "    <div>\n",
              "<style scoped>\n",
              "    .dataframe tbody tr th:only-of-type {\n",
              "        vertical-align: middle;\n",
              "    }\n",
              "\n",
              "    .dataframe tbody tr th {\n",
              "        vertical-align: top;\n",
              "    }\n",
              "\n",
              "    .dataframe thead th {\n",
              "        text-align: right;\n",
              "    }\n",
              "</style>\n",
              "<table border=\"1\" class=\"dataframe\">\n",
              "  <thead>\n",
              "    <tr style=\"text-align: right;\">\n",
              "      <th></th>\n",
              "      <th>Name</th>\n",
              "      <th>Mileage</th>\n",
              "      <th>Price</th>\n",
              "      <th>Engine</th>\n",
              "    </tr>\n",
              "  </thead>\n",
              "  <tbody>\n",
              "    <tr>\n",
              "      <th>0</th>\n",
              "      <td>2016/3 TOYOTA PRIUS S</td>\n",
              "      <td>53,000</td>\n",
              "      <td>11,676</td>\n",
              "      <td>[1,800cc]</td>\n",
              "    </tr>\n",
              "    <tr>\n",
              "      <th>1</th>\n",
              "      <td>2017/7 TOYOTA PRIUS</td>\n",
              "      <td>53,000</td>\n",
              "      <td>11,686</td>\n",
              "      <td>[1,800cc]</td>\n",
              "    </tr>\n",
              "    <tr>\n",
              "      <th>2</th>\n",
              "      <td>2016/5 TOYOTA PRIUS</td>\n",
              "      <td>56,000</td>\n",
              "      <td>11,686</td>\n",
              "      <td>[1,800cc]</td>\n",
              "    </tr>\n",
              "    <tr>\n",
              "      <th>3</th>\n",
              "      <td>2017/5 TOYOTA PRIUS E</td>\n",
              "      <td>62,000</td>\n",
              "      <td>11,706</td>\n",
              "      <td>[1,800cc]</td>\n",
              "    </tr>\n",
              "    <tr>\n",
              "      <th>4</th>\n",
              "      <td>2016/6 TOYOTA PRIUS</td>\n",
              "      <td>New Arriv</td>\n",
              "      <td>11,706</td>\n",
              "      <td>[1,800cc]</td>\n",
              "    </tr>\n",
              "    <tr>\n",
              "      <th>...</th>\n",
              "      <td>...</td>\n",
              "      <td>...</td>\n",
              "      <td>...</td>\n",
              "      <td>...</td>\n",
              "    </tr>\n",
              "    <tr>\n",
              "      <th>95</th>\n",
              "      <td>2017/6 TOYOTA PRIUS</td>\n",
              "      <td>New Arriv</td>\n",
              "      <td>12,433</td>\n",
              "      <td>[1,800cc]</td>\n",
              "    </tr>\n",
              "    <tr>\n",
              "      <th>96</th>\n",
              "      <td>2016/1 TOYOTA PRIUS</td>\n",
              "      <td>New Arriv</td>\n",
              "      <td>12,443</td>\n",
              "      <td>[1,800cc]</td>\n",
              "    </tr>\n",
              "    <tr>\n",
              "      <th>97</th>\n",
              "      <td>2017/8 TOYOTA PRIUS</td>\n",
              "      <td>70,000</td>\n",
              "      <td>12,453</td>\n",
              "      <td>[1,800cc]</td>\n",
              "    </tr>\n",
              "    <tr>\n",
              "      <th>98</th>\n",
              "      <td>2018/7 TOYOTA PRIUS S</td>\n",
              "      <td>64,000</td>\n",
              "      <td>12,453</td>\n",
              "      <td>[1,800cc]</td>\n",
              "    </tr>\n",
              "    <tr>\n",
              "      <th>99</th>\n",
              "      <td>2018/5 TOYOTA PRIUS</td>\n",
              "      <td>56,000</td>\n",
              "      <td>12,463</td>\n",
              "      <td>[1,800cc]</td>\n",
              "    </tr>\n",
              "  </tbody>\n",
              "</table>\n",
              "<p>100 rows × 4 columns</p>\n",
              "</div>\n",
              "    <div class=\"colab-df-buttons\">\n",
              "\n",
              "  <div class=\"colab-df-container\">\n",
              "    <button class=\"colab-df-convert\" onclick=\"convertToInteractive('df-b3fd98a4-f8eb-47c9-84c6-7b04c346ae55')\"\n",
              "            title=\"Convert this dataframe to an interactive table.\"\n",
              "            style=\"display:none;\">\n",
              "\n",
              "  <svg xmlns=\"http://www.w3.org/2000/svg\" height=\"24px\" viewBox=\"0 -960 960 960\">\n",
              "    <path d=\"M120-120v-720h720v720H120Zm60-500h600v-160H180v160Zm220 220h160v-160H400v160Zm0 220h160v-160H400v160ZM180-400h160v-160H180v160Zm440 0h160v-160H620v160ZM180-180h160v-160H180v160Zm440 0h160v-160H620v160Z\"/>\n",
              "  </svg>\n",
              "    </button>\n",
              "\n",
              "  <style>\n",
              "    .colab-df-container {\n",
              "      display:flex;\n",
              "      gap: 12px;\n",
              "    }\n",
              "\n",
              "    .colab-df-convert {\n",
              "      background-color: #E8F0FE;\n",
              "      border: none;\n",
              "      border-radius: 50%;\n",
              "      cursor: pointer;\n",
              "      display: none;\n",
              "      fill: #1967D2;\n",
              "      height: 32px;\n",
              "      padding: 0 0 0 0;\n",
              "      width: 32px;\n",
              "    }\n",
              "\n",
              "    .colab-df-convert:hover {\n",
              "      background-color: #E2EBFA;\n",
              "      box-shadow: 0px 1px 2px rgba(60, 64, 67, 0.3), 0px 1px 3px 1px rgba(60, 64, 67, 0.15);\n",
              "      fill: #174EA6;\n",
              "    }\n",
              "\n",
              "    .colab-df-buttons div {\n",
              "      margin-bottom: 4px;\n",
              "    }\n",
              "\n",
              "    [theme=dark] .colab-df-convert {\n",
              "      background-color: #3B4455;\n",
              "      fill: #D2E3FC;\n",
              "    }\n",
              "\n",
              "    [theme=dark] .colab-df-convert:hover {\n",
              "      background-color: #434B5C;\n",
              "      box-shadow: 0px 1px 3px 1px rgba(0, 0, 0, 0.15);\n",
              "      filter: drop-shadow(0px 1px 2px rgba(0, 0, 0, 0.3));\n",
              "      fill: #FFFFFF;\n",
              "    }\n",
              "  </style>\n",
              "\n",
              "    <script>\n",
              "      const buttonEl =\n",
              "        document.querySelector('#df-b3fd98a4-f8eb-47c9-84c6-7b04c346ae55 button.colab-df-convert');\n",
              "      buttonEl.style.display =\n",
              "        google.colab.kernel.accessAllowed ? 'block' : 'none';\n",
              "\n",
              "      async function convertToInteractive(key) {\n",
              "        const element = document.querySelector('#df-b3fd98a4-f8eb-47c9-84c6-7b04c346ae55');\n",
              "        const dataTable =\n",
              "          await google.colab.kernel.invokeFunction('convertToInteractive',\n",
              "                                                    [key], {});\n",
              "        if (!dataTable) return;\n",
              "\n",
              "        const docLinkHtml = 'Like what you see? Visit the ' +\n",
              "          '<a target=\"_blank\" href=https://colab.research.google.com/notebooks/data_table.ipynb>data table notebook</a>'\n",
              "          + ' to learn more about interactive tables.';\n",
              "        element.innerHTML = '';\n",
              "        dataTable['output_type'] = 'display_data';\n",
              "        await google.colab.output.renderOutput(dataTable, element);\n",
              "        const docLink = document.createElement('div');\n",
              "        docLink.innerHTML = docLinkHtml;\n",
              "        element.appendChild(docLink);\n",
              "      }\n",
              "    </script>\n",
              "  </div>\n",
              "\n",
              "\n",
              "<div id=\"df-c21d735d-b29b-48f8-8199-1daf9080d5d9\">\n",
              "  <button class=\"colab-df-quickchart\" onclick=\"quickchart('df-c21d735d-b29b-48f8-8199-1daf9080d5d9')\"\n",
              "            title=\"Suggest charts.\"\n",
              "            style=\"display:none;\">\n",
              "\n",
              "<svg xmlns=\"http://www.w3.org/2000/svg\" height=\"24px\"viewBox=\"0 0 24 24\"\n",
              "     width=\"24px\">\n",
              "    <g>\n",
              "        <path d=\"M19 3H5c-1.1 0-2 .9-2 2v14c0 1.1.9 2 2 2h14c1.1 0 2-.9 2-2V5c0-1.1-.9-2-2-2zM9 17H7v-7h2v7zm4 0h-2V7h2v10zm4 0h-2v-4h2v4z\"/>\n",
              "    </g>\n",
              "</svg>\n",
              "  </button>\n",
              "\n",
              "<style>\n",
              "  .colab-df-quickchart {\n",
              "      --bg-color: #E8F0FE;\n",
              "      --fill-color: #1967D2;\n",
              "      --hover-bg-color: #E2EBFA;\n",
              "      --hover-fill-color: #174EA6;\n",
              "      --disabled-fill-color: #AAA;\n",
              "      --disabled-bg-color: #DDD;\n",
              "  }\n",
              "\n",
              "  [theme=dark] .colab-df-quickchart {\n",
              "      --bg-color: #3B4455;\n",
              "      --fill-color: #D2E3FC;\n",
              "      --hover-bg-color: #434B5C;\n",
              "      --hover-fill-color: #FFFFFF;\n",
              "      --disabled-bg-color: #3B4455;\n",
              "      --disabled-fill-color: #666;\n",
              "  }\n",
              "\n",
              "  .colab-df-quickchart {\n",
              "    background-color: var(--bg-color);\n",
              "    border: none;\n",
              "    border-radius: 50%;\n",
              "    cursor: pointer;\n",
              "    display: none;\n",
              "    fill: var(--fill-color);\n",
              "    height: 32px;\n",
              "    padding: 0;\n",
              "    width: 32px;\n",
              "  }\n",
              "\n",
              "  .colab-df-quickchart:hover {\n",
              "    background-color: var(--hover-bg-color);\n",
              "    box-shadow: 0 1px 2px rgba(60, 64, 67, 0.3), 0 1px 3px 1px rgba(60, 64, 67, 0.15);\n",
              "    fill: var(--button-hover-fill-color);\n",
              "  }\n",
              "\n",
              "  .colab-df-quickchart-complete:disabled,\n",
              "  .colab-df-quickchart-complete:disabled:hover {\n",
              "    background-color: var(--disabled-bg-color);\n",
              "    fill: var(--disabled-fill-color);\n",
              "    box-shadow: none;\n",
              "  }\n",
              "\n",
              "  .colab-df-spinner {\n",
              "    border: 2px solid var(--fill-color);\n",
              "    border-color: transparent;\n",
              "    border-bottom-color: var(--fill-color);\n",
              "    animation:\n",
              "      spin 1s steps(1) infinite;\n",
              "  }\n",
              "\n",
              "  @keyframes spin {\n",
              "    0% {\n",
              "      border-color: transparent;\n",
              "      border-bottom-color: var(--fill-color);\n",
              "      border-left-color: var(--fill-color);\n",
              "    }\n",
              "    20% {\n",
              "      border-color: transparent;\n",
              "      border-left-color: var(--fill-color);\n",
              "      border-top-color: var(--fill-color);\n",
              "    }\n",
              "    30% {\n",
              "      border-color: transparent;\n",
              "      border-left-color: var(--fill-color);\n",
              "      border-top-color: var(--fill-color);\n",
              "      border-right-color: var(--fill-color);\n",
              "    }\n",
              "    40% {\n",
              "      border-color: transparent;\n",
              "      border-right-color: var(--fill-color);\n",
              "      border-top-color: var(--fill-color);\n",
              "    }\n",
              "    60% {\n",
              "      border-color: transparent;\n",
              "      border-right-color: var(--fill-color);\n",
              "    }\n",
              "    80% {\n",
              "      border-color: transparent;\n",
              "      border-right-color: var(--fill-color);\n",
              "      border-bottom-color: var(--fill-color);\n",
              "    }\n",
              "    90% {\n",
              "      border-color: transparent;\n",
              "      border-bottom-color: var(--fill-color);\n",
              "    }\n",
              "  }\n",
              "</style>\n",
              "\n",
              "  <script>\n",
              "    async function quickchart(key) {\n",
              "      const quickchartButtonEl =\n",
              "        document.querySelector('#' + key + ' button');\n",
              "      quickchartButtonEl.disabled = true;  // To prevent multiple clicks.\n",
              "      quickchartButtonEl.classList.add('colab-df-spinner');\n",
              "      try {\n",
              "        const charts = await google.colab.kernel.invokeFunction(\n",
              "            'suggestCharts', [key], {});\n",
              "      } catch (error) {\n",
              "        console.error('Error during call to suggestCharts:', error);\n",
              "      }\n",
              "      quickchartButtonEl.classList.remove('colab-df-spinner');\n",
              "      quickchartButtonEl.classList.add('colab-df-quickchart-complete');\n",
              "    }\n",
              "    (() => {\n",
              "      let quickchartButtonEl =\n",
              "        document.querySelector('#df-c21d735d-b29b-48f8-8199-1daf9080d5d9 button');\n",
              "      quickchartButtonEl.style.display =\n",
              "        google.colab.kernel.accessAllowed ? 'block' : 'none';\n",
              "    })();\n",
              "  </script>\n",
              "</div>\n",
              "    </div>\n",
              "  </div>\n"
            ],
            "text/plain": [
              "                     Name    Mileage    Price     Engine\n",
              "0   2016/3 TOYOTA PRIUS S     53,000   11,676  [1,800cc]\n",
              "1     2017/7 TOYOTA PRIUS     53,000   11,686  [1,800cc]\n",
              "2     2016/5 TOYOTA PRIUS     56,000   11,686  [1,800cc]\n",
              "3   2017/5 TOYOTA PRIUS E     62,000   11,706  [1,800cc]\n",
              "4     2016/6 TOYOTA PRIUS  New Arriv   11,706  [1,800cc]\n",
              "..                    ...        ...      ...        ...\n",
              "95    2017/6 TOYOTA PRIUS  New Arriv   12,433  [1,800cc]\n",
              "96    2016/1 TOYOTA PRIUS  New Arriv   12,443  [1,800cc]\n",
              "97    2017/8 TOYOTA PRIUS     70,000   12,453  [1,800cc]\n",
              "98  2018/7 TOYOTA PRIUS S     64,000   12,453  [1,800cc]\n",
              "99    2018/5 TOYOTA PRIUS     56,000   12,463  [1,800cc]\n",
              "\n",
              "[100 rows x 4 columns]"
            ]
          },
          "execution_count": 26,
          "metadata": {},
          "output_type": "execute_result"
        }
      ],
      "source": [
        "prius_info"
      ]
    },
    {
      "cell_type": "markdown",
      "metadata": {
        "id": "UY_6X2uDZR5l"
      },
      "source": [
        "**Feature engineering**"
      ]
    },
    {
      "cell_type": "code",
      "execution_count": null,
      "metadata": {
        "colab": {
          "base_uri": "https://localhost:8080/"
        },
        "id": "u4jUEDmh39jH",
        "outputId": "343b2adf-9a35-4fbf-d6b7-f4a50703ed2f"
      },
      "outputs": [
        {
          "metadata": {
            "tags": null
          },
          "name": "stderr",
          "output_type": "stream",
          "text": [
            "<ipython-input-27-01de9f5265f3>:1: FutureWarning: In a future version of pandas all arguments of StringMethods.split except for the argument 'pat' will be keyword-only.\n",
            "  prius_info_split_name = pd.DataFrame(prius_info.Name.str.split(' ',1).tolist(),\n"
          ]
        }
      ],
      "source": [
        "prius_info_split_name = pd.DataFrame(prius_info.Name.str.split(' ',1).tolist(),\n",
        "                                 columns = ['Release date','Name'])"
      ]
    },
    {
      "cell_type": "code",
      "execution_count": null,
      "metadata": {
        "id": "V9BPa9k39Bi6"
      },
      "outputs": [],
      "source": [
        "Prius_droppedCol = prius_info.drop('Name', axis=1)"
      ]
    },
    {
      "cell_type": "code",
      "execution_count": null,
      "metadata": {
        "id": "6S-3tuMi7YBi"
      },
      "outputs": [],
      "source": [
        "concatenated = pd.concat([prius_info_split_name, Prius_droppedCol], axis=\"columns\")"
      ]
    },
    {
      "cell_type": "code",
      "execution_count": null,
      "metadata": {
        "id": "OGqEgkqYB5zT"
      },
      "outputs": [],
      "source": [
        "cleaned_name = concatenated['Name'].str.encode('ascii', 'ignore').str.decode('ascii')"
      ]
    },
    {
      "cell_type": "code",
      "execution_count": null,
      "metadata": {
        "id": "TqIEl0mbCjA5"
      },
      "outputs": [],
      "source": [
        "concatenated = concatenated.drop('Name', axis=1)"
      ]
    },
    {
      "cell_type": "code",
      "execution_count": null,
      "metadata": {
        "id": "SIDZwSPm--8i"
      },
      "outputs": [],
      "source": [
        "Final = pd.concat([cleaned_name, concatenated], axis=\"columns\")"
      ]
    },
    {
      "cell_type": "code",
      "execution_count": null,
      "metadata": {
        "id": "XMgc3m_LCeNi"
      },
      "outputs": [],
      "source": [
        "Final.to_excel('search_page2.xlsx', index=False)"
      ]
    },
    {
      "cell_type": "markdown",
      "metadata": {
        "id": "vxOtMNIL_f07"
      },
      "source": [
        "\n",
        "**Looping through all pages**"
      ]
    },
    {
      "cell_type": "code",
      "execution_count": null,
      "metadata": {
        "id": "zyyFwv-hGHNe"
      },
      "outputs": [],
      "source": [
        "websites = []\n",
        "\n",
        "for i in range(2,14):\n",
        "  website = 'https://www.sbtjapan.com/used-cars/toyota/prius/?steering=right-hand-drive&drive=0&year_f=2015&year_t=2023&cc_f=0&cc_t=0&mile_f=11&mile_t=70&trans=0&savel=0&saveu=0&fuel=0&color=0&bodyLength=0&loadClass=0&engineType=0&location=&port=0&search_box=1&locationIds=0&d_country=2&d_port=65&ship_type=0&FreightChk=yes&currency=2&inspection=yes&insurance=1&sort=5&psize=100&p_num=' + str(i)+ '#listbox'\n",
        "  websites.append(website)\n",
        "\n"
      ]
    },
    {
      "cell_type": "code",
      "execution_count": null,
      "metadata": {
        "id": "0wsqsPcqHRmu"
      },
      "outputs": [],
      "source": [
        "\n",
        "name = []\n",
        "mileage = []\n",
        "price = []\n",
        "\n",
        "for w in websites:\n",
        "  response =  requests.get(w)\n",
        "  soup = BeautifulSoup(response.content, 'html.parser')\n",
        "  result = soup.find_all('li', {'class': 'car_listitem'})\n",
        "\n",
        "  for r in result:\n",
        "    try:\n",
        "      name.append(r.find('h2').get_text().strip())\n",
        "    except:\n",
        "      name.append('n/a')\n",
        "\n",
        "    try:\n",
        "      mileage.append(r.find('li').get_text().strip())\n",
        "    except:\n",
        "      mileage.append('n/a')\n",
        "\n",
        "    try:\n",
        "      price.append(r.find('p', {'style' : \"font-weight: 700;\"}).get_text().strip())\n",
        "    except:\n",
        "      price.append('n/a')"
      ]
    },
    {
      "cell_type": "code",
      "execution_count": null,
      "metadata": {
        "colab": {
          "base_uri": "https://localhost:8080/"
        },
        "id": "FSI3o8XKkIhl",
        "outputId": "84838425-790d-4732-c56d-3aaa27914df3"
      },
      "outputs": [
        {
          "data": {
            "text/plain": [
              "1204"
            ]
          },
          "execution_count": 36,
          "metadata": {},
          "output_type": "execute_result"
        }
      ],
      "source": [
        "len(mileage)"
      ]
    },
    {
      "cell_type": "markdown",
      "metadata": {
        "id": "q-GmZJSbexS1"
      },
      "source": [
        "**Scraping the engine size**\n",
        "\n"
      ]
    },
    {
      "cell_type": "code",
      "execution_count": null,
      "metadata": {
        "id": "t3pIWsgXexS2"
      },
      "outputs": [],
      "source": [
        "engine =[]\n",
        "results_span_all = []\n",
        "\n",
        "for w in websites:\n",
        "  response =  requests.get(w)\n",
        "  soup = BeautifulSoup(response.content, 'html.parser')\n",
        "  result = soup.find_all('div', {'class': 'car_info_area popbox'})\n",
        "\n",
        "  for r in result:\n",
        "    results_span_all.append(r.find_all('span'))"
      ]
    },
    {
      "cell_type": "code",
      "execution_count": null,
      "metadata": {
        "id": "uLbPkWY0exS3"
      },
      "outputs": [],
      "source": [
        "for r in results_span_all:\n",
        "      engine.append(r[2])"
      ]
    },
    {
      "cell_type": "code",
      "execution_count": null,
      "metadata": {
        "colab": {
          "base_uri": "https://localhost:8080/"
        },
        "id": "xzBkUAs_exS3",
        "outputId": "cc96e7ac-5c35-4013-f1a6-7c45af2b5b81"
      },
      "outputs": [
        {
          "data": {
            "text/plain": [
              "[<span>1,800cc</span>,\n",
              " <span>1,800cc</span>,\n",
              " <span>1,800cc</span>,\n",
              " <span>1,800cc</span>,\n",
              " <span>1,800cc</span>,\n",
              " <span>1,800cc</span>,\n",
              " <span>1,800cc</span>,\n",
              " <span>1,800cc</span>,\n",
              " <span>1,800cc</span>,\n",
              " <span>1,800cc</span>]"
            ]
          },
          "execution_count": 39,
          "metadata": {},
          "output_type": "execute_result"
        }
      ],
      "source": [
        "engine[:10]"
      ]
    },
    {
      "cell_type": "markdown",
      "metadata": {
        "id": "Fw4WfGphX1ku"
      },
      "source": [
        "**Converted to Pandas Dataframe**"
      ]
    },
    {
      "cell_type": "code",
      "execution_count": null,
      "metadata": {
        "id": "Pr-WXJngU4oF"
      },
      "outputs": [],
      "source": [
        "prius_info_all = pd.DataFrame({'Name': name, 'Mileage': mileage, 'Price': price, 'Engine': engine})"
      ]
    },
    {
      "cell_type": "code",
      "execution_count": null,
      "metadata": {
        "colab": {
          "base_uri": "https://localhost:8080/"
        },
        "id": "PBc4LMazWdDi",
        "outputId": "3a5c51e3-590c-4c3b-b3d9-8e8d61ba5fcf"
      },
      "outputs": [
        {
          "name": "stdout",
          "output_type": "stream",
          "text": [
            "<class 'pandas.core.frame.DataFrame'>\n",
            "RangeIndex: 1204 entries, 0 to 1203\n",
            "Data columns (total 4 columns):\n",
            " #   Column   Non-Null Count  Dtype \n",
            "---  ------   --------------  ----- \n",
            " 0   Name     1204 non-null   object\n",
            " 1   Mileage  1204 non-null   object\n",
            " 2   Price    1204 non-null   object\n",
            " 3   Engine   1204 non-null   object\n",
            "dtypes: object(4)\n",
            "memory usage: 37.8+ KB\n"
          ]
        }
      ],
      "source": [
        "prius_info_all.info()"
      ]
    },
    {
      "cell_type": "markdown",
      "metadata": {
        "id": "LM7OQyBWYKhb"
      },
      "source": [
        "**Data cleaning through all pages**"
      ]
    },
    {
      "cell_type": "code",
      "execution_count": null,
      "metadata": {
        "id": "Dw4bMhGNXQrP"
      },
      "outputs": [],
      "source": [
        "prius_info_all['Mileage'] = prius_info_all['Mileage'].apply(lambda x:x.strip('Mileage\\n'))\n",
        "prius_info_all['Mileage'] = prius_info_all['Mileage'].apply(lambda x:x.strip('km'))\n",
        "prius_info_all['Price'] = prius_info_all['Price'].apply(lambda x:x.strip('USD'))\n",
        "prius_info_all['Name'] = prius_info_all['Name'].str.encode('ascii', 'ignore').str.decode('ascii')"
      ]
    },
    {
      "cell_type": "markdown",
      "metadata": {
        "id": "wtS-iYJiZIhg"
      },
      "source": [
        "**Feature engineering**"
      ]
    },
    {
      "cell_type": "code",
      "execution_count": null,
      "metadata": {
        "colab": {
          "base_uri": "https://localhost:8080/"
        },
        "id": "s4AinwcoZN9E",
        "outputId": "8e59fe41-108d-4eac-839f-3a382f4562fd"
      },
      "outputs": [
        {
          "name": "stderr",
          "output_type": "stream",
          "text": [
            "<ipython-input-43-281883d6aa14>:1: FutureWarning: In a future version of pandas all arguments of StringMethods.split except for the argument 'pat' will be keyword-only.\n",
            "  prius_info_all_split_name = pd.DataFrame(prius_info_all.Name.str.split(' ',1).tolist(),columns = ['Release date','Name'])\n"
          ]
        }
      ],
      "source": [
        "prius_info_all_split_name = pd.DataFrame(prius_info_all.Name.str.split(' ',1).tolist(),columns = ['Release date','Name'])\n",
        "Prius_info_all_droppedCol = prius_info_all.drop('Name', axis=1)\n",
        "Final_all = pd.concat([prius_info_all_split_name, Prius_info_all_droppedCol], axis=\"columns\")"
      ]
    },
    {
      "cell_type": "code",
      "execution_count": null,
      "metadata": {
        "colab": {
          "base_uri": "https://localhost:8080/"
        },
        "id": "-VPQol4jaUkB",
        "outputId": "0d1a1284-af4f-4eac-9c69-2959ea0a7022"
      },
      "outputs": [
        {
          "name": "stdout",
          "output_type": "stream",
          "text": [
            "<class 'pandas.core.frame.DataFrame'>\n",
            "RangeIndex: 1204 entries, 0 to 1203\n",
            "Data columns (total 5 columns):\n",
            " #   Column        Non-Null Count  Dtype \n",
            "---  ------        --------------  ----- \n",
            " 0   Release date  1204 non-null   object\n",
            " 1   Name          1204 non-null   object\n",
            " 2   Mileage       1204 non-null   object\n",
            " 3   Price         1204 non-null   object\n",
            " 4   Engine        1204 non-null   object\n",
            "dtypes: object(5)\n",
            "memory usage: 47.2+ KB\n"
          ]
        }
      ],
      "source": [
        "Final_all.info()"
      ]
    },
    {
      "cell_type": "markdown",
      "metadata": {
        "id": "Fl6hAZ2ja5Ex"
      },
      "source": [
        "**Converting to excel sheet**"
      ]
    },
    {
      "cell_type": "code",
      "execution_count": null,
      "metadata": {
        "id": "4pbGyPyabQED"
      },
      "outputs": [],
      "source": [
        "Final_all.to_excel('pages 2-13.xlsx', index=False)"
      ]
    },
    {
      "cell_type": "markdown",
      "metadata": {
        "id": "LBVJ5JzXbg2w"
      },
      "source": [
        "**Appending search page 1 with pages 2 to 13**"
      ]
    },
    {
      "cell_type": "code",
      "execution_count": null,
      "metadata": {
        "colab": {
          "base_uri": "https://localhost:8080/"
        },
        "id": "mEhKOhpPcA01",
        "outputId": "e07c61fa-fb09-4450-9b26-a21d0fa825b3"
      },
      "outputs": [
        {
          "name": "stderr",
          "output_type": "stream",
          "text": [
            "<ipython-input-46-8865598d6515>:1: FutureWarning: The frame.append method is deprecated and will be removed from pandas in a future version. Use pandas.concat instead.\n",
            "  Combined_all = Final.append(\n"
          ]
        }
      ],
      "source": [
        "Combined_all = Final.append(\n",
        "      Final_all, ignore_index=True)\n",
        "\n"
      ]
    },
    {
      "cell_type": "code",
      "execution_count": null,
      "metadata": {
        "colab": {
          "base_uri": "https://localhost:8080/"
        },
        "id": "rULd_3i5c-Z-",
        "outputId": "d491b5e4-9212-4b50-b5f6-4a8914529d88"
      },
      "outputs": [
        {
          "name": "stdout",
          "output_type": "stream",
          "text": [
            "<class 'pandas.core.frame.DataFrame'>\n",
            "RangeIndex: 1304 entries, 0 to 1303\n",
            "Data columns (total 5 columns):\n",
            " #   Column        Non-Null Count  Dtype \n",
            "---  ------        --------------  ----- \n",
            " 0   Name          1304 non-null   object\n",
            " 1   Release date  1304 non-null   object\n",
            " 2   Mileage       1304 non-null   object\n",
            " 3   Price         1304 non-null   object\n",
            " 4   Engine        1304 non-null   object\n",
            "dtypes: object(5)\n",
            "memory usage: 51.1+ KB\n"
          ]
        }
      ],
      "source": [
        "Combined_all.info()"
      ]
    },
    {
      "cell_type": "code",
      "execution_count": null,
      "metadata": {
        "colab": {
          "base_uri": "https://localhost:8080/",
          "height": 424
        },
        "id": "cbYkd51BgYln",
        "outputId": "cabc8a62-7544-47c9-ddfe-201bc1fa5898"
      },
      "outputs": [
        {
          "data": {
            "text/html": [
              "\n",
              "  <div id=\"df-0a837cf3-a74c-4b9f-ab52-3395c1da0246\">\n",
              "    <div class=\"colab-df-container\">\n",
              "      <div>\n",
              "<style scoped>\n",
              "    .dataframe tbody tr th:only-of-type {\n",
              "        vertical-align: middle;\n",
              "    }\n",
              "\n",
              "    .dataframe tbody tr th {\n",
              "        vertical-align: top;\n",
              "    }\n",
              "\n",
              "    .dataframe thead th {\n",
              "        text-align: right;\n",
              "    }\n",
              "</style>\n",
              "<table border=\"1\" class=\"dataframe\">\n",
              "  <thead>\n",
              "    <tr style=\"text-align: right;\">\n",
              "      <th></th>\n",
              "      <th>Name</th>\n",
              "      <th>Release date</th>\n",
              "      <th>Mileage</th>\n",
              "      <th>Price</th>\n",
              "      <th>Engine</th>\n",
              "    </tr>\n",
              "  </thead>\n",
              "  <tbody>\n",
              "    <tr>\n",
              "      <th>0</th>\n",
              "      <td>TOYOTA PRIUS</td>\n",
              "      <td>2015/12</td>\n",
              "      <td>New Arriv</td>\n",
              "      <td>12,352</td>\n",
              "      <td>[1,800cc]</td>\n",
              "    </tr>\n",
              "    <tr>\n",
              "      <th>1</th>\n",
              "      <td>TOYOTA PRIUS S</td>\n",
              "      <td>2016/4</td>\n",
              "      <td>22,000</td>\n",
              "      <td>12,373</td>\n",
              "      <td>[1,800cc]</td>\n",
              "    </tr>\n",
              "    <tr>\n",
              "      <th>2</th>\n",
              "      <td>TOYOTA PRIUS A</td>\n",
              "      <td>2016/1</td>\n",
              "      <td>65,000</td>\n",
              "      <td>12,383</td>\n",
              "      <td>[1,800cc]</td>\n",
              "    </tr>\n",
              "    <tr>\n",
              "      <th>3</th>\n",
              "      <td>TOYOTA PRIUS</td>\n",
              "      <td>2016/6</td>\n",
              "      <td>38,000</td>\n",
              "      <td>12,383</td>\n",
              "      <td>[1,800cc]</td>\n",
              "    </tr>\n",
              "    <tr>\n",
              "      <th>4</th>\n",
              "      <td>TOYOTA PRIUS</td>\n",
              "      <td>2016/2</td>\n",
              "      <td>38,000</td>\n",
              "      <td>12,413</td>\n",
              "      <td>[1,800cc]</td>\n",
              "    </tr>\n",
              "    <tr>\n",
              "      <th>...</th>\n",
              "      <td>...</td>\n",
              "      <td>...</td>\n",
              "      <td>...</td>\n",
              "      <td>...</td>\n",
              "      <td>...</td>\n",
              "    </tr>\n",
              "    <tr>\n",
              "      <th>1299</th>\n",
              "      <td>TOYOTA PRIUS</td>\n",
              "      <td>2019/3</td>\n",
              "      <td>20,000</td>\n",
              "      <td>24,624</td>\n",
              "      <td>[1,800cc]</td>\n",
              "    </tr>\n",
              "    <tr>\n",
              "      <th>1300</th>\n",
              "      <td>TOYOTA PRIUS S</td>\n",
              "      <td>2019/1</td>\n",
              "      <td>12,000</td>\n",
              "      <td>24,725</td>\n",
              "      <td>[1,800cc]</td>\n",
              "    </tr>\n",
              "    <tr>\n",
              "      <th>1301</th>\n",
              "      <td>TOYOTA PRIUS JDM EDITION SALOON 1.8 AUTOMATIC ...</td>\n",
              "      <td>2017</td>\n",
              "      <td>48,000miles</td>\n",
              "      <td>n/a</td>\n",
              "      <td>[1,800cc]</td>\n",
              "    </tr>\n",
              "    <tr>\n",
              "      <th>1302</th>\n",
              "      <td>TOYOTA PRIUS</td>\n",
              "      <td>2021/1</td>\n",
              "      <td>19,000</td>\n",
              "      <td>24,917</td>\n",
              "      <td>[1,800cc]</td>\n",
              "    </tr>\n",
              "    <tr>\n",
              "      <th>1303</th>\n",
              "      <td>TOYOTA PRIUS</td>\n",
              "      <td>2019/12</td>\n",
              "      <td>35,000</td>\n",
              "      <td>24,927</td>\n",
              "      <td>[1,800cc]</td>\n",
              "    </tr>\n",
              "  </tbody>\n",
              "</table>\n",
              "<p>1304 rows × 5 columns</p>\n",
              "</div>\n",
              "      <button class=\"colab-df-convert\" onclick=\"convertToInteractive('df-0a837cf3-a74c-4b9f-ab52-3395c1da0246')\"\n",
              "              title=\"Convert this dataframe to an interactive table.\"\n",
              "              style=\"display:none;\">\n",
              "        \n",
              "  <svg xmlns=\"http://www.w3.org/2000/svg\" height=\"24px\"viewBox=\"0 0 24 24\"\n",
              "       width=\"24px\">\n",
              "    <path d=\"M0 0h24v24H0V0z\" fill=\"none\"/>\n",
              "    <path d=\"M18.56 5.44l.94 2.06.94-2.06 2.06-.94-2.06-.94-.94-2.06-.94 2.06-2.06.94zm-11 1L8.5 8.5l.94-2.06 2.06-.94-2.06-.94L8.5 2.5l-.94 2.06-2.06.94zm10 10l.94 2.06.94-2.06 2.06-.94-2.06-.94-.94-2.06-.94 2.06-2.06.94z\"/><path d=\"M17.41 7.96l-1.37-1.37c-.4-.4-.92-.59-1.43-.59-.52 0-1.04.2-1.43.59L10.3 9.45l-7.72 7.72c-.78.78-.78 2.05 0 2.83L4 21.41c.39.39.9.59 1.41.59.51 0 1.02-.2 1.41-.59l7.78-7.78 2.81-2.81c.8-.78.8-2.07 0-2.86zM5.41 20L4 18.59l7.72-7.72 1.47 1.35L5.41 20z\"/>\n",
              "  </svg>\n",
              "      </button>\n",
              "      \n",
              "  <style>\n",
              "    .colab-df-container {\n",
              "      display:flex;\n",
              "      flex-wrap:wrap;\n",
              "      gap: 12px;\n",
              "    }\n",
              "\n",
              "    .colab-df-convert {\n",
              "      background-color: #E8F0FE;\n",
              "      border: none;\n",
              "      border-radius: 50%;\n",
              "      cursor: pointer;\n",
              "      display: none;\n",
              "      fill: #1967D2;\n",
              "      height: 32px;\n",
              "      padding: 0 0 0 0;\n",
              "      width: 32px;\n",
              "    }\n",
              "\n",
              "    .colab-df-convert:hover {\n",
              "      background-color: #E2EBFA;\n",
              "      box-shadow: 0px 1px 2px rgba(60, 64, 67, 0.3), 0px 1px 3px 1px rgba(60, 64, 67, 0.15);\n",
              "      fill: #174EA6;\n",
              "    }\n",
              "\n",
              "    [theme=dark] .colab-df-convert {\n",
              "      background-color: #3B4455;\n",
              "      fill: #D2E3FC;\n",
              "    }\n",
              "\n",
              "    [theme=dark] .colab-df-convert:hover {\n",
              "      background-color: #434B5C;\n",
              "      box-shadow: 0px 1px 3px 1px rgba(0, 0, 0, 0.15);\n",
              "      filter: drop-shadow(0px 1px 2px rgba(0, 0, 0, 0.3));\n",
              "      fill: #FFFFFF;\n",
              "    }\n",
              "  </style>\n",
              "\n",
              "      <script>\n",
              "        const buttonEl =\n",
              "          document.querySelector('#df-0a837cf3-a74c-4b9f-ab52-3395c1da0246 button.colab-df-convert');\n",
              "        buttonEl.style.display =\n",
              "          google.colab.kernel.accessAllowed ? 'block' : 'none';\n",
              "\n",
              "        async function convertToInteractive(key) {\n",
              "          const element = document.querySelector('#df-0a837cf3-a74c-4b9f-ab52-3395c1da0246');\n",
              "          const dataTable =\n",
              "            await google.colab.kernel.invokeFunction('convertToInteractive',\n",
              "                                                     [key], {});\n",
              "          if (!dataTable) return;\n",
              "\n",
              "          const docLinkHtml = 'Like what you see? Visit the ' +\n",
              "            '<a target=\"_blank\" href=https://colab.research.google.com/notebooks/data_table.ipynb>data table notebook</a>'\n",
              "            + ' to learn more about interactive tables.';\n",
              "          element.innerHTML = '';\n",
              "          dataTable['output_type'] = 'display_data';\n",
              "          await google.colab.output.renderOutput(dataTable, element);\n",
              "          const docLink = document.createElement('div');\n",
              "          docLink.innerHTML = docLinkHtml;\n",
              "          element.appendChild(docLink);\n",
              "        }\n",
              "      </script>\n",
              "    </div>\n",
              "  </div>\n",
              "  "
            ],
            "text/plain": [
              "                                                   Name Release date  \\\n",
              "0                                          TOYOTA PRIUS      2015/12   \n",
              "1                                        TOYOTA PRIUS S       2016/4   \n",
              "2                                        TOYOTA PRIUS A       2016/1   \n",
              "3                                          TOYOTA PRIUS       2016/6   \n",
              "4                                          TOYOTA PRIUS       2016/2   \n",
              "...                                                 ...          ...   \n",
              "1299                                       TOYOTA PRIUS       2019/3   \n",
              "1300                                     TOYOTA PRIUS S       2019/1   \n",
              "1301  TOYOTA PRIUS JDM EDITION SALOON 1.8 AUTOMATIC ...         2017   \n",
              "1302                                       TOYOTA PRIUS       2021/1   \n",
              "1303                                       TOYOTA PRIUS      2019/12   \n",
              "\n",
              "          Mileage    Price     Engine  \n",
              "0       New Arriv   12,352  [1,800cc]  \n",
              "1          22,000   12,373  [1,800cc]  \n",
              "2          65,000   12,383  [1,800cc]  \n",
              "3          38,000   12,383  [1,800cc]  \n",
              "4          38,000   12,413  [1,800cc]  \n",
              "...           ...      ...        ...  \n",
              "1299       20,000   24,624  [1,800cc]  \n",
              "1300       12,000   24,725  [1,800cc]  \n",
              "1301  48,000miles      n/a  [1,800cc]  \n",
              "1302       19,000   24,917  [1,800cc]  \n",
              "1303       35,000   24,927  [1,800cc]  \n",
              "\n",
              "[1304 rows x 5 columns]"
            ]
          },
          "execution_count": 48,
          "metadata": {},
          "output_type": "execute_result"
        }
      ],
      "source": [
        "Combined_all"
      ]
    },
    {
      "cell_type": "markdown",
      "metadata": {
        "id": "6MiYk6S21YT_"
      },
      "source": [
        "**Converting all to excel**"
      ]
    },
    {
      "cell_type": "code",
      "execution_count": null,
      "metadata": {
        "id": "vo0LAZ_ndClx"
      },
      "outputs": [],
      "source": [
        "Combined_all.to_excel('sbtjapan Prius info.xlsx', index=False)\n"
      ]
    }
  ],
  "metadata": {
    "colab": {
      "provenance": [],
      "authorship_tag": "ABX9TyPicOF8/KEU8V5kdSPriE1u",
      "include_colab_link": true
    },
    "kernelspec": {
      "display_name": "Python 3",
      "name": "python3"
    },
    "language_info": {
      "name": "python"
    }
  },
  "nbformat": 4,
  "nbformat_minor": 0
}